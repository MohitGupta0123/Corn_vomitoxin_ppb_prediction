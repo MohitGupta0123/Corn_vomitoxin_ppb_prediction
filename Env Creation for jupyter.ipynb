{
 "cells": [
  {
   "cell_type": "code",
   "execution_count": 2,
   "id": "c7185e52",
   "metadata": {},
   "outputs": [
    {
     "name": "stdout",
     "output_type": "stream",
     "text": [
      "Channels:\n",
      " - defaults\n",
      "Platform: win-64\n",
      "Collecting package metadata (repodata.json): ...working... done\n",
      "Solving environment: ...working... done\n",
      "\n",
      "## Package Plan ##\n",
      "\n",
      "  environment location: C:\\Users\\Asus\\anaconda3\\envs\\ImagoAI\n",
      "\n",
      "\n",
      "\n",
      "Preparing transaction: ...working... done\n",
      "Verifying transaction: ...working... done\n",
      "Executing transaction: ...working... done\n",
      "#\n",
      "# To activate this environment, use\n",
      "#\n",
      "#     $ conda activate ImagoAI\n",
      "#\n",
      "# To deactivate an active environment, use\n",
      "#\n",
      "#     $ conda deactivate\n",
      "\n"
     ]
    }
   ],
   "source": [
    "!conda create -n ImagoAI -y"
   ]
  },
  {
   "cell_type": "code",
   "execution_count": 5,
   "id": "4da9a43e",
   "metadata": {},
   "outputs": [
    {
     "name": "stdout",
     "output_type": "stream",
     "text": [
      "Channels:\n",
      " - defaults\n",
      "Platform: win-64\n",
      "Collecting package metadata (repodata.json): ...working... done\n",
      "Solving environment: ...working... done\n",
      "\n",
      "## Package Plan ##\n",
      "\n",
      "  environment location: C:\\Users\\Asus\\anaconda3\n",
      "\n",
      "  added / updated specs:\n",
      "    - ipykernel\n",
      "\n",
      "\n",
      "The following packages will be downloaded:\n",
      "\n",
      "    package                    |            build\n",
      "    ---------------------------|-----------------\n",
      "    ca-certificates-2025.2.25  |       haa95532_0         130 KB\n",
      "    certifi-2025.1.31          |  py311haa95532_0         164 KB\n",
      "    conda-24.11.3              |  py311haa95532_0         1.2 MB\n",
      "    ipykernel-6.29.5           |  py311haa95532_1         259 KB\n",
      "    openssl-3.0.16             |       h3f729d1_0         7.8 MB\n",
      "    ------------------------------------------------------------\n",
      "                                           Total:         9.6 MB\n",
      "\n",
      "The following packages will be UPDATED:\n",
      "\n",
      "  ca-certificates                      2024.3.11-haa95532_0 --> 2025.2.25-haa95532_0 \n",
      "  certifi                          2024.6.2-py311haa95532_0 --> 2025.1.31-py311haa95532_0 \n",
      "  conda                              24.5.0-py311haa95532_0 --> 24.11.3-py311haa95532_0 \n",
      "  ipykernel                          6.28.0-py311haa95532_0 --> 6.29.5-py311haa95532_1 \n",
      "  openssl                                 3.0.14-h827c3e9_0 --> 3.0.16-h3f729d1_0 \n",
      "\n",
      "\n",
      "\n",
      "Downloading and Extracting Packages: ...working... done\n",
      "Preparing transaction: ...working... done\n",
      "Verifying transaction: ...working... done\n",
      "Executing transaction: ...working... done\n",
      "\n",
      "C:\\Users\\Asus\\Desktop\\ImagoAI Assignment>tivate\" reactivate\n"
     ]
    },
    {
     "name": "stderr",
     "output_type": "stream",
     "text": [
      "'tivate\" reactivate' is not recognized as an internal or external command,\n",
      "operable program or batch file.\n"
     ]
    }
   ],
   "source": [
    "!conda install ipykernel -y"
   ]
  },
  {
   "cell_type": "code",
   "execution_count": 6,
   "id": "d56e5fac",
   "metadata": {},
   "outputs": [
    {
     "name": "stdout",
     "output_type": "stream",
     "text": [
      "Installed kernelspec ImagoAI in C:\\Users\\Asus\\AppData\\Roaming\\jupyter\\kernels\\imagoai\n"
     ]
    }
   ],
   "source": [
    "!python -m ipykernel install --user --name=ImagoAI --display-name \"ImagoAI\""
   ]
  },
  {
   "cell_type": "code",
   "execution_count": 7,
   "id": "3b811eab",
   "metadata": {},
   "outputs": [],
   "source": [
    "!conda activate ImagoAI"
   ]
  },
  {
   "cell_type": "code",
   "execution_count": null,
   "id": "68afe51c",
   "metadata": {},
   "outputs": [],
   "source": []
  }
 ],
 "metadata": {
  "kernelspec": {
   "display_name": "Python 3 (ipykernel)",
   "language": "python",
   "name": "python3"
  },
  "language_info": {
   "codemirror_mode": {
    "name": "ipython",
    "version": 3
   },
   "file_extension": ".py",
   "mimetype": "text/x-python",
   "name": "python",
   "nbconvert_exporter": "python",
   "pygments_lexer": "ipython3",
   "version": "3.11.9"
  }
 },
 "nbformat": 4,
 "nbformat_minor": 5
}
